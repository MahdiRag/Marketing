{
 "cells": [
  {
   "cell_type": "markdown",
   "metadata": {},
   "source": [
    "https://codingbat.com/prob/p189441"
   ]
  },
  {
   "cell_type": "markdown",
   "metadata": {},
   "source": [
    "Q1.\n",
    "Given a string, return a new string where \"not \" has been added to the front. \n",
    "However, if the string already begins with \"not\", return the string unchanged.\n",
    "\n",
    "\n",
    "not_string('candy') → 'not candy'\n",
    "not_string('x') → 'not x'\n",
    "not_string('not bad') → 'not bad'"
   ]
  },
  {
   "cell_type": "code",
   "execution_count": 8,
   "metadata": {},
   "outputs": [],
   "source": [
    "def not_string(str):\n",
    "    if len(str) >=3 and str[:3] =='not':\n",
    "        return str\n",
    "    return 'not ' + str"
   ]
  },
  {
   "cell_type": "code",
   "execution_count": 10,
   "metadata": {},
   "outputs": [
    {
     "data": {
      "text/plain": [
       "'not My name is Mahdi'"
      ]
     },
     "execution_count": 10,
     "metadata": {},
     "output_type": "execute_result"
    }
   ],
   "source": [
    "not_string('My name is Mahdi')"
   ]
  },
  {
   "cell_type": "markdown",
   "metadata": {},
   "source": [
    "Q2.\n",
    "Given a non-empty string and an int n, return a new string where the char at index n has been removed. The value of n will be a valid index of a char in the original string (i.e. n will be in the range 0..len(str)-1 inclusive).\n",
    "\n",
    "\n",
    "missing_char('kitten', 1) → 'ktten'\n",
    "missing_char('kitten', 0) → 'itten'\n",
    "missing_char('kitten', 4) → 'kittn'"
   ]
  },
  {
   "cell_type": "code",
   "execution_count": 11,
   "metadata": {},
   "outputs": [],
   "source": [
    "def missing_char(str, n):\n",
    "  front = str[:n]\n",
    "  back = str[n+1:]\n",
    "  return front + back"
   ]
  },
  {
   "cell_type": "code",
   "execution_count": 16,
   "metadata": {},
   "outputs": [
    {
     "data": {
      "text/plain": [
       "'ahdi'"
      ]
     },
     "execution_count": 16,
     "metadata": {},
     "output_type": "execute_result"
    }
   ],
   "source": [
    "missing_char('mahdi', 0)"
   ]
  },
  {
   "cell_type": "code",
   "execution_count": 17,
   "metadata": {},
   "outputs": [],
   "source": [
    "a = 'Mahdi'"
   ]
  },
  {
   "cell_type": "code",
   "execution_count": 20,
   "metadata": {},
   "outputs": [
    {
     "data": {
      "text/plain": [
       "'Mahd'"
      ]
     },
     "execution_count": 20,
     "metadata": {},
     "output_type": "execute_result"
    }
   ],
   "source": [
    "a[:4] # This takes everything from the beginning up to but not including the 4th letter in the string"
   ]
  },
  {
   "cell_type": "code",
   "execution_count": 21,
   "metadata": {},
   "outputs": [
    {
     "data": {
      "text/plain": [
       "'hdi'"
      ]
     },
     "execution_count": 21,
     "metadata": {},
     "output_type": "execute_result"
    }
   ],
   "source": [
    "a[2:] # This takes everything from the 2nd position till the end of the string"
   ]
  },
  {
   "cell_type": "code",
   "execution_count": 24,
   "metadata": {},
   "outputs": [
    {
     "data": {
      "text/plain": [
       "'ahd'"
      ]
     },
     "execution_count": 24,
     "metadata": {},
     "output_type": "execute_result"
    }
   ],
   "source": [
    "a[1:-1]"
   ]
  },
  {
   "cell_type": "markdown",
   "metadata": {},
   "source": [
    "Q3.\n",
    "Given a string, return a new string where the first and last chars have been exchanged.\n",
    "\n",
    "\n",
    "front_back('code') → 'eodc'\n",
    "front_back('a') → 'a'\n",
    "front_back('ab') → 'ba'"
   ]
  },
  {
   "cell_type": "code",
   "execution_count": 30,
   "metadata": {},
   "outputs": [],
   "source": [
    "def front_back(str):\n",
    "  first = str[0]\n",
    "  last = str[-1]\n",
    "  middle = str[1:-1]\n",
    "  return last + middle + first"
   ]
  },
  {
   "cell_type": "code",
   "execution_count": 31,
   "metadata": {},
   "outputs": [
    {
     "data": {
      "text/plain": [
       "'tahdi is GreaM'"
      ]
     },
     "execution_count": 31,
     "metadata": {},
     "output_type": "execute_result"
    }
   ],
   "source": [
    "front_back('Mahdi is Great')"
   ]
  },
  {
   "cell_type": "code",
   "execution_count": 32,
   "metadata": {},
   "outputs": [],
   "source": [
    "def front_back2(str):\n",
    "  if len(str) <= 1:\n",
    "    return str\n",
    "  \n",
    "  mid = str[1:len(str)-1]  # can be written as str[1:-1] --# Takes the 2nd position the string all the way till one from the end\n",
    "  \n",
    "  # last + mid + first\n",
    "  return str[len(str)-1] + mid + str[0]"
   ]
  },
  {
   "cell_type": "code",
   "execution_count": 33,
   "metadata": {},
   "outputs": [
    {
     "data": {
      "text/plain": [
       "'ielloww MahdH'"
      ]
     },
     "execution_count": 33,
     "metadata": {},
     "output_type": "execute_result"
    }
   ],
   "source": [
    "front_back2('Helloww Mahdi')"
   ]
  },
  {
   "cell_type": "code",
   "execution_count": 34,
   "metadata": {},
   "outputs": [
    {
     "data": {
      "text/plain": [
       "'i'"
      ]
     },
     "execution_count": 34,
     "metadata": {},
     "output_type": "execute_result"
    }
   ],
   "source": [
    "a[len(a)-1]  # Returns the last value in the string"
   ]
  },
  {
   "cell_type": "markdown",
   "metadata": {},
   "source": [
    "Q4.\n",
    "Given a string, we'll say that the front is the first 3 chars of the string. If the string length is less than 3, the front is whatever is there. Return a new string which is 3 copies of the front.\n",
    "\n",
    "\n",
    "front3('Java') → 'JavJavJav'\n",
    "front3('Chocolate') → 'ChoChoCho'\n",
    "front3('abc') → 'abcabcabc'"
   ]
  },
  {
   "cell_type": "code",
   "execution_count": 39,
   "metadata": {},
   "outputs": [],
   "source": [
    "def front3(str):\n",
    "  front_end = 3\n",
    "  if len(str) < front_end:\n",
    "    front_end = len(str)\n",
    "  front = str[:front_end]\n",
    "  return front*3 # Or you can do  return front + front + front"
   ]
  },
  {
   "cell_type": "code",
   "execution_count": 40,
   "metadata": {},
   "outputs": [
    {
     "data": {
      "text/plain": [
       "'MahMahMah'"
      ]
     },
     "execution_count": 40,
     "metadata": {},
     "output_type": "execute_result"
    }
   ],
   "source": [
    "front3('Mahdi ')"
   ]
  },
  {
   "cell_type": "markdown",
   "metadata": {},
   "source": [
    "Q5.\n",
    "Given a string, return a new string made of every other char starting with the first, so \"Hello\" yields \"Hlo\".\n",
    "\n",
    "\n",
    "string_bits('Hello') → 'Hlo'\n",
    "string_bits('Hi') → 'H'\n",
    "string_bits('Heeololeo') → 'Hello'"
   ]
  },
  {
   "cell_type": "code",
   "execution_count": 44,
   "metadata": {},
   "outputs": [],
   "source": [
    "def string_bits(str):\n",
    "  result = \"\"\n",
    "  # Many ways to do this. This uses the standard loop of i on every char,\n",
    "  # and inside the loop skips the odd index values.\n",
    "  for i in range(len(str)):\n",
    "    if i % 2 == 0:   # This Produces a 0 or 1 outcome\n",
    "      result = result + str[i]\n",
    "  return result"
   ]
  },
  {
   "cell_type": "code",
   "execution_count": 49,
   "metadata": {},
   "outputs": [
    {
     "data": {
      "text/plain": [
       "'H yNm sMhi'"
      ]
     },
     "execution_count": 49,
     "metadata": {},
     "output_type": "execute_result"
    }
   ],
   "source": [
    "string_bits('Hi My Name is Mahdi')"
   ]
  },
  {
   "cell_type": "code",
   "execution_count": 86,
   "metadata": {},
   "outputs": [
    {
     "data": {
      "text/plain": [
       "range(0, 9)"
      ]
     },
     "execution_count": 86,
     "metadata": {},
     "output_type": "execute_result"
    }
   ],
   "source": [
    "range(len('Ma h d i '))"
   ]
  },
  {
   "cell_type": "code",
   "execution_count": 92,
   "metadata": {},
   "outputs": [
    {
     "data": {
      "text/plain": [
       "'M ae'"
      ]
     },
     "execution_count": 92,
     "metadata": {},
     "output_type": "execute_result"
    }
   ],
   "source": [
    "strbit('My Name')"
   ]
  },
  {
   "cell_type": "code",
   "execution_count": 79,
   "metadata": {},
   "outputs": [
    {
     "data": {
      "text/plain": [
       "0"
      ]
     },
     "execution_count": 79,
     "metadata": {},
     "output_type": "execute_result"
    }
   ],
   "source": [
    "0%2"
   ]
  },
  {
   "cell_type": "code",
   "execution_count": 100,
   "metadata": {},
   "outputs": [
    {
     "data": {
      "text/plain": [
       "1"
      ]
     },
     "execution_count": 100,
     "metadata": {},
     "output_type": "execute_result"
    }
   ],
   "source": [
    "1%2"
   ]
  },
  {
   "cell_type": "code",
   "execution_count": 81,
   "metadata": {},
   "outputs": [
    {
     "data": {
      "text/plain": [
       "0"
      ]
     },
     "execution_count": 81,
     "metadata": {},
     "output_type": "execute_result"
    }
   ],
   "source": [
    "2%2"
   ]
  },
  {
   "cell_type": "code",
   "execution_count": 82,
   "metadata": {},
   "outputs": [
    {
     "data": {
      "text/plain": [
       "1"
      ]
     },
     "execution_count": 82,
     "metadata": {},
     "output_type": "execute_result"
    }
   ],
   "source": [
    "3%2"
   ]
  },
  {
   "cell_type": "markdown",
   "metadata": {},
   "source": [
    "Q6. \n",
    "Given a non-empty string like \"Code\" return a string like \"CCoCodCode\".\n",
    "\n",
    "\n",
    "string_splosion('Code') → 'CCoCodCode'\n",
    "string_splosion('abc') → 'aababc'\n",
    "string_splosion('ab') → 'aab'"
   ]
  },
  {
   "cell_type": "code",
   "execution_count": null,
   "metadata": {},
   "outputs": [],
   "source": []
  },
  {
   "cell_type": "code",
   "execution_count": null,
   "metadata": {},
   "outputs": [],
   "source": []
  },
  {
   "cell_type": "code",
   "execution_count": null,
   "metadata": {},
   "outputs": [],
   "source": []
  },
  {
   "cell_type": "code",
   "execution_count": 5,
   "metadata": {},
   "outputs": [
    {
     "name": "stdout",
     "output_type": "stream",
     "text": [
      "75\n"
     ]
    }
   ],
   "source": [
    "# Add up all odd numbers between 10 and 20\n",
    "# Store the result in x:\n",
    "x = 0\n",
    "\n",
    "# YOUR CODE GOES HERE:\n",
    "for num in range(10,20):\n",
    "    if num % 2 == 1:    # Or  if n % 2 != 0:\n",
    "        x += num  # or you can say x = x + numm\n",
    "    \n",
    "print(x)"
   ]
  },
  {
   "cell_type": "code",
   "execution_count": 4,
   "metadata": {},
   "outputs": [
    {
     "name": "stdout",
     "output_type": "stream",
     "text": [
      "75\n"
     ]
    }
   ],
   "source": [
    "# Add up all odd numbers between 10 and 20\n",
    "# Store the result in x:\n",
    "\n",
    "x = 0\n",
    "\n",
    "for i in range(11,21,2):\n",
    "        x += i\n",
    "print(x)"
   ]
  },
  {
   "cell_type": "code",
   "execution_count": 19,
   "metadata": {},
   "outputs": [
    {
     "name": "stdout",
     "output_type": "stream",
     "text": [
      "How many times do I have to tell you? 4\n",
      "Clean up Now\n",
      "Clean up Now\n",
      "Clean up Now\n",
      "Clean up Now\n"
     ]
    }
   ],
   "source": [
    "times = int(input('How many times do I have to tell you? '))\n",
    "#times = int(times)\n",
    "\n",
    "for time in range(times):\n",
    "    print('Clean up Now')"
   ]
  },
  {
   "cell_type": "code",
   "execution_count": 22,
   "metadata": {
    "collapsed": true
   },
   "outputs": [
    {
     "name": "stdout",
     "output_type": "stream",
     "text": [
      "1: Odd\n",
      "2: Even\n",
      "3: Odd\n",
      "4: Unlucky\n",
      "5: Odd\n",
      "6: Even\n",
      "7: Odd\n",
      "8: Even\n",
      "9: Odd\n",
      "10: Even\n",
      "11: Odd\n",
      "12: Even\n",
      "13: Unlucky\n",
      "14: Even\n",
      "15: Odd\n",
      "16: Even\n",
      "17: Odd\n",
      "18: Even\n",
      "19: Odd\n",
      "20: Even\n"
     ]
    }
   ],
   "source": [
    "#Loop through 1 through 20 and if \n",
    "# the number is 4 or 13 print Unlucky\n",
    "# the number is Odd Print Odd\n",
    "# If Even Print even\n",
    "\n",
    "for num in range(1,21):\n",
    "    if num in (4,13):\n",
    "        print(f'{num}: Unlucky')\n",
    "    elif num%2 ==0:\n",
    "        print(f'{num}: Even')\n",
    "    else:\n",
    "        print(f'{num}: Odd')"
   ]
  },
  {
   "cell_type": "code",
   "execution_count": 24,
   "metadata": {
    "collapsed": true
   },
   "outputs": [
    {
     "name": "stdout",
     "output_type": "stream",
     "text": [
      "1: Odd\n",
      "2: Even\n",
      "3: Odd\n",
      "4: Unlucky\n",
      "5: Odd\n",
      "6: Even\n",
      "7: Odd\n",
      "8: Even\n",
      "9: Odd\n",
      "10: Even\n",
      "11: Odd\n",
      "12: Even\n",
      "13: Unlucky\n",
      "14: Even\n",
      "15: Odd\n",
      "16: Even\n",
      "17: Odd\n",
      "18: Even\n",
      "19: Odd\n",
      "20: Even\n"
     ]
    }
   ],
   "source": [
    "for num in range(1,21):\n",
    "    if num in (4,13):\n",
    "        state = 'Unlucky'\n",
    "    elif num%2 ==0:\n",
    "        state = 'Even'\n",
    "    else:\n",
    "        state = 'Odd'\n",
    "    print(f'{num}: {state}')"
   ]
  },
  {
   "cell_type": "code",
   "execution_count": 26,
   "metadata": {},
   "outputs": [
    {
     "name": "stdout",
     "output_type": "stream",
     "text": [
      "😀\n"
     ]
    }
   ],
   "source": [
    "print('\\U0001f600')"
   ]
  },
  {
   "cell_type": "code",
   "execution_count": 32,
   "metadata": {},
   "outputs": [
    {
     "name": "stdout",
     "output_type": "stream",
     "text": [
      "\n",
      "😀\n",
      "😀😀\n",
      "😀😀😀\n",
      "😀😀😀😀\n"
     ]
    }
   ],
   "source": [
    "\n",
    "for i in range(0,5):\n",
    "    print('\\U0001f600'*i)"
   ]
  },
  {
   "cell_type": "code",
   "execution_count": 41,
   "metadata": {},
   "outputs": [
    {
     "name": "stdout",
     "output_type": "stream",
     "text": [
      "\n",
      "😀\n",
      "😀😀\n",
      "😀😀😀\n",
      "😀😀😀😀\n"
     ]
    },
    {
     "data": {
      "text/plain": [
       "[None, None, None, None, None]"
      ]
     },
     "execution_count": 41,
     "metadata": {},
     "output_type": "execute_result"
    }
   ],
   "source": [
    "[print('\\U0001f600'*i) for i in range(5)]"
   ]
  },
  {
   "cell_type": "code",
   "execution_count": 43,
   "metadata": {},
   "outputs": [
    {
     "name": "stdout",
     "output_type": "stream",
     "text": [
      "😀\n",
      "😀😀\n",
      "😀😀😀\n",
      "😀😀😀😀\n"
     ]
    }
   ],
   "source": [
    "num = 1\n",
    "while num < 5:\n",
    "    print('\\U0001f600'*num)\n",
    "    num+=1"
   ]
  },
  {
   "cell_type": "code",
   "execution_count": 48,
   "metadata": {},
   "outputs": [
    {
     "name": "stdout",
     "output_type": "stream",
     "text": [
      "Say Somethingno\n",
      "Stop copying me\n",
      "yes\n",
      "Stop copying me\n",
      "no\n",
      "Stop copying me\n",
      "why\n",
      "Stop copying me\n",
      "ok\n"
     ]
    }
   ],
   "source": [
    "what = input('Say Something')\n",
    "while what != 'ok':\n",
    "    print('Stop copying me')\n",
    "    what = input()"
   ]
  },
  {
   "cell_type": "code",
   "execution_count": 49,
   "metadata": {},
   "outputs": [],
   "source": [
    "from random import randint"
   ]
  },
  {
   "cell_type": "code",
   "execution_count": 62,
   "metadata": {},
   "outputs": [
    {
     "name": "stdout",
     "output_type": "stream",
     "text": [
      "1:4\n",
      "2:1\n",
      "3:5\n"
     ]
    }
   ],
   "source": [
    "\n",
    "num = randint(1,5)\n",
    "i = 1\n",
    "while num !=5:\n",
    "    num = randint(1,5)\n",
    "    print(f'{i}:{num}')\n",
    "    i+=1\n",
    "    if i == num:\n",
    "        break\n"
   ]
  },
  {
   "cell_type": "code",
   "execution_count": 67,
   "metadata": {},
   "outputs": [
    {
     "name": "stdout",
     "output_type": "stream",
     "text": [
      "1 : 10\n",
      "2 : 2\n",
      "3 : 10\n",
      "4 : 9\n",
      "5 : 2\n",
      "6 : 3\n",
      "7 : 10\n",
      "8 : 1\n",
      "9 : 1\n",
      "10 : 1\n",
      "11 : 9\n",
      "12 : 5\n"
     ]
    }
   ],
   "source": [
    "from random import randint  # use randint(a, b) to generate a random number between a and b\n",
    " \n",
    "number = 0 #store random number in here, each time through\n",
    "i = 0  # i should be incremented by one each iteration\n",
    " \n",
    "while number != 5: #keep looping while number is not 5\n",
    "    i += 1\n",
    "    number = randint(1, 10) #update number to be a new random int from 1-10\n",
    "    print(f'{i} : {number}')"
   ]
  },
  {
   "cell_type": "code",
   "execution_count": 68,
   "metadata": {},
   "outputs": [
    {
     "name": "stdout",
     "output_type": "stream",
     "text": [
      "Hi Mahdi\n"
     ]
    }
   ],
   "source": [
    "print('Hi Mahdi')"
   ]
  },
  {
   "cell_type": "code",
   "execution_count": null,
   "metadata": {},
   "outputs": [
    {
     "name": "stdout",
     "output_type": "stream",
     "text": [
      "Guess the random number Between 1 and 10: \n",
      "\n",
      "12\n",
      "Pick a # btween 1 and 10!!\n",
      "Your guess of 12 was too high, Try AGAIN!!\n",
      "0\n",
      "Pick a # btween 1 and 10!!\n",
      "Your guess of 0 was too Low, Try AGAIN!!\n",
      "-10\n",
      "Pick a # btween 1 and 10!!\n",
      "Your guess of -10 was too Low, Try AGAIN!!\n",
      "11\n",
      "Pick a # btween 1 and 10!!\n",
      "Your guess of 11 was too high, Try AGAIN!!\n"
     ]
    }
   ],
   "source": [
    "import random as rand\n",
    "\n",
    "random_num = rand.randint(1, 10)\n",
    "#print(random_num)\n",
    "guess = ''\n",
    "print('Guess the random number Between 1 and 10: \\n')\n",
    "\n",
    "while guess != random_num:\n",
    "    guess = input()\n",
    "    if guess not in range(1,11):\n",
    "        print('Pick a # btween 1 and 10!!')\n",
    "    if int(guess) > random_num:\n",
    "        print(f'Your guess of {guess} was too high, Try AGAIN!!')\n",
    "    elif int(guess) < random_num:\n",
    "        print(f'Your guess of {guess} was too Low, Try AGAIN!!')\n",
    "    else:\n",
    "        print(f'Well Done! You Guessed:{guess} and the random number is {random_num}')\n",
    "        break\n"
   ]
  },
  {
   "cell_type": "code",
   "execution_count": 10,
   "metadata": {},
   "outputs": [
    {
     "name": "stdout",
     "output_type": "stream",
     "text": [
      "5\n",
      "Your guess of 5 was too Low, Try AGAIN!!\n",
      "3\n",
      "Your guess of 3 was too Low, Try AGAIN!!\n",
      "6\n",
      "Well Done! You Guessed:6 and the random number is 6\n"
     ]
    }
   ],
   "source": [
    "while guess != random_num:\n",
    "    guess = int(input())\n",
    "    if guess not in range(1,11):\n",
    "        print('Pick a # btween 1 and 10!!')\n",
    "    if guess > random_num:\n",
    "        print(f'Your guess of {guess} was too high, Try AGAIN!!')\n",
    "    elif guess < random_num:\n",
    "        print(f'Your guess of {guess} was too Low, Try AGAIN!!')\n",
    "    else:\n",
    "        print(f'Well Done! You Guessed:{guess} and the random number is {random_num}')\n",
    "        break"
   ]
  },
  {
   "cell_type": "code",
   "execution_count": 3,
   "metadata": {},
   "outputs": [
    {
     "name": "stdout",
     "output_type": "stream",
     "text": [
      "Guess a Number betwee 1 and 10 \n",
      "\n",
      "11\n",
      "Pick a # btween 1 and 10!!\n",
      "Your guess of 11 was too high, Try AGAIN!! \n",
      "\n",
      "5\n",
      "Well Done! You Guessed:5 and the random number is 5\n",
      "Would you like to play again? (y/n) \n",
      "n\n",
      "Thank you for playing!\n"
     ]
    }
   ],
   "source": [
    "import random as rand\n",
    "random_num = rand.randint(1,11)\n",
    "print('Guess a Number betwee 1 and 10 \\n' )\n",
    "\n",
    "while True:\n",
    "    guess = int(input())\n",
    "    if guess not in range(1,11):\n",
    "        print('Pick a # btween 1 and 10!!')\n",
    "    if guess > random_num:\n",
    "        print(f'Your guess of {guess} was too high, Try AGAIN!! \\n')\n",
    "    elif guess < random_num:\n",
    "        print(f'Your guess of {guess} was too Low, Try AGAIN!! \\n')\n",
    "    else:\n",
    "        print(f'Well Done! You Guessed:{guess} and the random number is {random_num}')\n",
    "        play_again = input('Would you like to play again? (y/n) \\n')\n",
    "        if play_again == 'y':\n",
    "            random_num = rand.randint(1,11)\n",
    "            guess = None\n",
    "        else:\n",
    "            print('Thank you for playing!')\n",
    "            break"
   ]
  },
  {
   "cell_type": "code",
   "execution_count": 75,
   "metadata": {},
   "outputs": [
    {
     "name": "stdout",
     "output_type": "stream",
     "text": [
      "Rock, Paper, Scisors !!! \n",
      "\n",
      "Player Make Your Move: Scisors\n",
      "computer plays rock\n",
      "Computer Wins\n"
     ]
    }
   ],
   "source": [
    "# Rock Paper Scisors Game:\n",
    "\n",
    "from random import randint\n",
    "\n",
    "print('Rock, Paper, Scisors !!! \\n')\n",
    "\n",
    "player = input('Player Make Your Move: ').lower()\n",
    "computer = randint(0,2)\n",
    "#print(computer)\n",
    "\n",
    "if computer == 0:\n",
    "    computer = 'rock'\n",
    "elif computer == 1:\n",
    "    computer = 'paper'\n",
    "else:\n",
    "    computer = 'scisors'\n",
    "\n",
    "print(f'computer plays {computer}')\n",
    "\n",
    "if player == computer:\n",
    "    print('It''s a Draw')\n",
    "\n",
    "elif player == 'rock':\n",
    "    if computer == 'scisors':\n",
    "        print('player Wins')\n",
    "    else:\n",
    "        print('Computer Wins')\n",
    "              \n",
    "elif player == 'paper':\n",
    "    if computer == 'rock':\n",
    "        print('Player Wins')\n",
    "    else:\n",
    "        print('Computer Wins')\n",
    "\n",
    "elif player == 'scisors':\n",
    "    if computer == 'paper':\n",
    "        print('Player Wins')\n",
    "    else:\n",
    "        print('Computer Wins')\n",
    "else:\n",
    "    print('Invalid Entry')"
   ]
  },
  {
   "cell_type": "code",
   "execution_count": 2,
   "metadata": {},
   "outputs": [
    {
     "name": "stdout",
     "output_type": "stream",
     "text": [
      "player score: 0  computer score: 0  Number of Ties 0\n",
      "Player, make your move: rock\n",
      "Computer plays paper\n",
      "computer wins!\n",
      "Final Socre:\n",
      "player score: 0  computer score: 1  Number of Ties 0\n",
      "Would you like to play again? (y/n) \n",
      "y\n",
      "Player, make your move: rock\n",
      "player score: 0  computer score: 1  Number of Ties 0\n",
      "Player, make your move: rock\n",
      "Computer plays scissors\n",
      "player wins!\n",
      "Final Socre:\n",
      "player score: 1  computer score: 1  Number of Ties 0\n",
      "Would you like to play again? (y/n) \n",
      "n\n",
      "Thank you for playing!\n"
     ]
    }
   ],
   "source": [
    "from random import randint\n",
    "# print(\"Rock...\")\n",
    "# print(\"Paper...\")\n",
    "# print(\"Scissors...\")\n",
    "player_score = 0\n",
    "computer_score = 0\n",
    "ties = 0\n",
    "number_games = 2\n",
    "\n",
    "#while True:\n",
    "while player_score < number_games and computer_score < number_games:\n",
    "    print(f'player score: {player_score}  computer score: {computer_score}  Number of Ties {ties}')\n",
    "\n",
    "    player = input(\"Player, make your move: \").lower()\n",
    "    if player == 'quit' or player == 'q':\n",
    "        break\n",
    "\n",
    "    rand_num = randint(0,2)\n",
    "    if rand_num == 0:\n",
    "        computer = \"rock\"\n",
    "    elif rand_num == 1:\n",
    "        computer = \"paper\"\n",
    "    else:\n",
    "        computer = \"scissors\"\n",
    "\n",
    "    print(f\"Computer plays {computer}\" )\n",
    "\n",
    "    if player == computer:\n",
    "        print(\"It's a tie!\")\n",
    "        ties+=1\n",
    "\n",
    "    elif player == \"rock\":\n",
    "        if computer == \"scissors\":\n",
    "            print(\"player wins!\")\n",
    "            player_score +=1\n",
    "        else:\n",
    "            print(\"computer wins!\")\n",
    "            computer_score +=1\n",
    "\n",
    "    elif player == \"paper\":\n",
    "        if computer == \"rock\":\n",
    "            print(\"player wins!\")\n",
    "            player_score +=1\n",
    "        else:\n",
    "            print(\"computer wins!\")\n",
    "            computer_score +=1\n",
    "\n",
    "    elif player == \"scissors\":\n",
    "        if computer == \"paper\":\n",
    "            print(\"player wins!\")\n",
    "            player_score +=1\n",
    "        else:\n",
    "            print(\"computer wins!\")\n",
    "            computer_score +=1\n",
    "\n",
    "    else:\n",
    "        print(\"Please enter a valid move!\")\n",
    "    print(f'Final Socre:\\nplayer score: {player_score}  computer score: {computer_score}  Number of Ties {ties}')    \n",
    "\n",
    "    play_again = input('Would you like to play again? (y/n) \\n')\n",
    "    if play_again == 'y':\n",
    "        player = input(\"Player, make your move: \").lower()\n",
    "\n",
    "    else:\n",
    "        print('Thank you for playing!')\n",
    "        break\n",
    "\n",
    "    "
   ]
  },
  {
   "cell_type": "code",
   "execution_count": 2,
   "metadata": {},
   "outputs": [],
   "source": [
    "import pandas as pd\n",
    "import numpy as np"
   ]
  },
  {
   "cell_type": "code",
   "execution_count": 49,
   "metadata": {},
   "outputs": [
    {
     "data": {
      "text/html": [
       "<div>\n",
       "<style scoped>\n",
       "    .dataframe tbody tr th:only-of-type {\n",
       "        vertical-align: middle;\n",
       "    }\n",
       "\n",
       "    .dataframe tbody tr th {\n",
       "        vertical-align: top;\n",
       "    }\n",
       "\n",
       "    .dataframe thead th {\n",
       "        text-align: right;\n",
       "    }\n",
       "</style>\n",
       "<table border=\"1\" class=\"dataframe\">\n",
       "  <thead>\n",
       "    <tr style=\"text-align: right;\">\n",
       "      <th></th>\n",
       "      <th>date</th>\n",
       "      <th>action_id</th>\n",
       "      <th>post_id</th>\n",
       "      <th>action_type</th>\n",
       "      <th>post_type</th>\n",
       "    </tr>\n",
       "  </thead>\n",
       "  <tbody>\n",
       "    <tr>\n",
       "      <th>0</th>\n",
       "      <td>4/3/2020</td>\n",
       "      <td>123</td>\n",
       "      <td>987</td>\n",
       "      <td>like</td>\n",
       "      <td>picture</td>\n",
       "    </tr>\n",
       "    <tr>\n",
       "      <th>1</th>\n",
       "      <td>4/3/2020</td>\n",
       "      <td>123</td>\n",
       "      <td>876</td>\n",
       "      <td>share</td>\n",
       "      <td>video</td>\n",
       "    </tr>\n",
       "    <tr>\n",
       "      <th>2</th>\n",
       "      <td>4/3/2020</td>\n",
       "      <td>135</td>\n",
       "      <td>884</td>\n",
       "      <td>view</td>\n",
       "      <td>picture</td>\n",
       "    </tr>\n",
       "    <tr>\n",
       "      <th>3</th>\n",
       "      <td>4/3/2020</td>\n",
       "      <td>135</td>\n",
       "      <td>763</td>\n",
       "      <td>like</td>\n",
       "      <td>picture</td>\n",
       "    </tr>\n",
       "    <tr>\n",
       "      <th>4</th>\n",
       "      <td>4/3/2020</td>\n",
       "      <td>256</td>\n",
       "      <td>985</td>\n",
       "      <td>share</td>\n",
       "      <td>video</td>\n",
       "    </tr>\n",
       "    <tr>\n",
       "      <th>5</th>\n",
       "      <td>4/3/2020</td>\n",
       "      <td>352</td>\n",
       "      <td>378</td>\n",
       "      <td>like</td>\n",
       "      <td>picture</td>\n",
       "    </tr>\n",
       "  </tbody>\n",
       "</table>\n",
       "</div>"
      ],
      "text/plain": [
       "       date  action_id  post_id action_type post_type\n",
       "0  4/3/2020        123      987        like   picture\n",
       "1  4/3/2020        123      876       share     video\n",
       "2  4/3/2020        135      884        view   picture\n",
       "3  4/3/2020        135      763        like   picture\n",
       "4  4/3/2020        256      985       share     video\n",
       "5  4/3/2020        352      378        like   picture"
      ]
     },
     "execution_count": 49,
     "metadata": {},
     "output_type": "execute_result"
    }
   ],
   "source": [
    "# count all the likes by action_id 123:\n",
    "\n",
    "post_info = pd.DataFrame({'date': ['4/3/2020','4/3/2020','4/3/2020','4/3/2020','4/3/2020','4/3/2020'],\n",
    "             'action_id': [123, 123, 135, 135, 256, 352],\n",
    "             'post_id':[987, 876, 884,763, 985, 378],\n",
    "             'action_type': ['like', 'share','view', 'like', 'share', 'like'],\n",
    "             'post_type': ['picture', 'video', 'picture', 'picture', 'video', 'picture']})\n",
    "post_info"
   ]
  },
  {
   "cell_type": "code",
   "execution_count": 50,
   "metadata": {},
   "outputs": [
    {
     "data": {
      "text/plain": [
       "date           1\n",
       "action_id      1\n",
       "post_id        1\n",
       "action_type    1\n",
       "post_type      1\n",
       "dtype: int64"
      ]
     },
     "execution_count": 50,
     "metadata": {},
     "output_type": "execute_result"
    }
   ],
   "source": [
    "post_info[(post_info['action_id']== 123) & (post_info['action_type']== 'like')].count()"
   ]
  },
  {
   "cell_type": "code",
   "execution_count": 51,
   "metadata": {},
   "outputs": [
    {
     "data": {
      "text/html": [
       "<div>\n",
       "<style scoped>\n",
       "    .dataframe tbody tr th:only-of-type {\n",
       "        vertical-align: middle;\n",
       "    }\n",
       "\n",
       "    .dataframe tbody tr th {\n",
       "        vertical-align: top;\n",
       "    }\n",
       "\n",
       "    .dataframe thead th {\n",
       "        text-align: right;\n",
       "    }\n",
       "</style>\n",
       "<table border=\"1\" class=\"dataframe\">\n",
       "  <thead>\n",
       "    <tr style=\"text-align: right;\">\n",
       "      <th></th>\n",
       "      <th>post_id</th>\n",
       "      <th>interactot_id</th>\n",
       "      <th>interactor</th>\n",
       "    </tr>\n",
       "  </thead>\n",
       "  <tbody>\n",
       "    <tr>\n",
       "      <th>0</th>\n",
       "      <td>987</td>\n",
       "      <td>1234</td>\n",
       "      <td>friend</td>\n",
       "    </tr>\n",
       "    <tr>\n",
       "      <th>1</th>\n",
       "      <td>876</td>\n",
       "      <td>1236</td>\n",
       "      <td>friend</td>\n",
       "    </tr>\n",
       "    <tr>\n",
       "      <th>2</th>\n",
       "      <td>884</td>\n",
       "      <td>1358</td>\n",
       "      <td>family</td>\n",
       "    </tr>\n",
       "    <tr>\n",
       "      <th>3</th>\n",
       "      <td>763</td>\n",
       "      <td>1350</td>\n",
       "      <td>friend</td>\n",
       "    </tr>\n",
       "    <tr>\n",
       "      <th>4</th>\n",
       "      <td>378</td>\n",
       "      <td>2546</td>\n",
       "      <td>family</td>\n",
       "    </tr>\n",
       "    <tr>\n",
       "      <th>5</th>\n",
       "      <td>884</td>\n",
       "      <td>3728</td>\n",
       "      <td>friend</td>\n",
       "    </tr>\n",
       "  </tbody>\n",
       "</table>\n",
       "</div>"
      ],
      "text/plain": [
       "   post_id  interactot_id interactor\n",
       "0      987           1234     friend\n",
       "1      876           1236     friend\n",
       "2      884           1358     family\n",
       "3      763           1350     friend\n",
       "4      378           2546     family\n",
       "5      884           3728     friend"
      ]
     },
     "execution_count": 51,
     "metadata": {},
     "output_type": "execute_result"
    }
   ],
   "source": [
    "# Get the average number of likes by friends and family?\n",
    "\n",
    "poster_info = pd.DataFrame({\n",
    "             'post_id':[987, 876, 884,763, 378, 884],\n",
    "             'interactot_id': [1234, 1236, 1358, 1350, 2546, 3728],\n",
    "             'interactor': ['friend', 'friend','family', 'friend', 'family', 'friend'],\n",
    "             })\n",
    "poster_info"
   ]
  },
  {
   "cell_type": "code",
   "execution_count": 57,
   "metadata": {},
   "outputs": [
    {
     "data": {
      "text/html": [
       "<div>\n",
       "<style scoped>\n",
       "    .dataframe tbody tr th:only-of-type {\n",
       "        vertical-align: middle;\n",
       "    }\n",
       "\n",
       "    .dataframe tbody tr th {\n",
       "        vertical-align: top;\n",
       "    }\n",
       "\n",
       "    .dataframe thead th {\n",
       "        text-align: right;\n",
       "    }\n",
       "</style>\n",
       "<table border=\"1\" class=\"dataframe\">\n",
       "  <thead>\n",
       "    <tr style=\"text-align: right;\">\n",
       "      <th></th>\n",
       "      <th>interactor</th>\n",
       "      <th>post_id</th>\n",
       "    </tr>\n",
       "  </thead>\n",
       "  <tbody>\n",
       "    <tr>\n",
       "      <th>0</th>\n",
       "      <td>family</td>\n",
       "      <td>1</td>\n",
       "    </tr>\n",
       "    <tr>\n",
       "      <th>1</th>\n",
       "      <td>friend</td>\n",
       "      <td>2</td>\n",
       "    </tr>\n",
       "  </tbody>\n",
       "</table>\n",
       "</div>"
      ],
      "text/plain": [
       "  interactor  post_id\n",
       "0     family        1\n",
       "1     friend        2"
      ]
     },
     "execution_count": 57,
     "metadata": {},
     "output_type": "execute_result"
    }
   ],
   "source": [
    "# Get the average number of likes by friends and family?\n",
    "\n",
    "post_info[post_info['action_type']=='like'].merge(poster_info, \n",
    "                                                  on = 'post_id', \n",
    "                                                  how= 'left').groupby('interactor')['post_id'].count().reset_index()"
   ]
  },
  {
   "cell_type": "code",
   "execution_count": 70,
   "metadata": {},
   "outputs": [
    {
     "data": {
      "text/plain": [
       "date           3\n",
       "action_id      3\n",
       "post_id        3\n",
       "action_type    3\n",
       "post_type      3\n",
       "dtype: int64"
      ]
     },
     "execution_count": 70,
     "metadata": {},
     "output_type": "execute_result"
    }
   ],
   "source": [
    "post_info[(post_info['action_type']== 'like')].count()"
   ]
  },
  {
   "cell_type": "code",
   "execution_count": 68,
   "metadata": {},
   "outputs": [
    {
     "data": {
      "text/plain": [
       "True     3\n",
       "False    3\n",
       "Name: action_type, dtype: int64"
      ]
     },
     "execution_count": 68,
     "metadata": {},
     "output_type": "execute_result"
    }
   ],
   "source": [
    "(post_info['action_type']=='like').value_counts()"
   ]
  },
  {
   "cell_type": "code",
   "execution_count": 78,
   "metadata": {},
   "outputs": [
    {
     "data": {
      "text/plain": [
       "date           3\n",
       "action_id      3\n",
       "post_id        3\n",
       "action_type    3\n",
       "post_type      3\n",
       "dtype: int64"
      ]
     },
     "execution_count": 78,
     "metadata": {},
     "output_type": "execute_result"
    }
   ],
   "source": [
    "post_info[(post_info['action_type'] =='like')].count()"
   ]
  },
  {
   "cell_type": "code",
   "execution_count": null,
   "metadata": {},
   "outputs": [],
   "source": []
  }
 ],
 "metadata": {
  "kernelspec": {
   "display_name": "Python 3",
   "language": "python",
   "name": "python3"
  },
  "language_info": {
   "codemirror_mode": {
    "name": "ipython",
    "version": 3
   },
   "file_extension": ".py",
   "mimetype": "text/x-python",
   "name": "python",
   "nbconvert_exporter": "python",
   "pygments_lexer": "ipython3",
   "version": "3.6.9"
  }
 },
 "nbformat": 4,
 "nbformat_minor": 4
}
